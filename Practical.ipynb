{
 "cells": [
  {
   "cell_type": "markdown",
   "id": "7312ea26",
   "metadata": {},
   "source": [
    "# Implementation of logical AND, OR, XOR functions..."
   ]
  },
  {
   "cell_type": "markdown",
   "id": "065f3b34",
   "metadata": {},
   "source": [
    "### NOT logical function:"
   ]
  },
  {
   "cell_type": "code",
   "execution_count": 41,
   "id": "40799450",
   "metadata": {},
   "outputs": [],
   "source": [
    "import numpy as np"
   ]
  },
  {
   "cell_type": "code",
   "execution_count": 42,
   "id": "13daddcb",
   "metadata": {},
   "outputs": [],
   "source": [
    "def unit_step(v):\n",
    "    if v >= 0:\n",
    "        return 1\n",
    "    else:\n",
    "        return 0"
   ]
  },
  {
   "cell_type": "code",
   "execution_count": 43,
   "id": "720b3bf4",
   "metadata": {},
   "outputs": [],
   "source": [
    "def perceptron(x, w, b):\n",
    "    v = np.dot(x, w) + b\n",
    "    y = unit_step(v)\n",
    "    return y"
   ]
  },
  {
   "cell_type": "code",
   "execution_count": 54,
   "id": "7695e493",
   "metadata": {},
   "outputs": [],
   "source": [
    "def NOT_percept(x):\n",
    "    return perceptron(x, w = -1, b = 0.5)"
   ]
  },
  {
   "cell_type": "code",
   "execution_count": 55,
   "id": "5ba19869",
   "metadata": {},
   "outputs": [
    {
     "name": "stdout",
     "output_type": "stream",
     "text": [
      "NOT(0): 1\n",
      "NOT(1): 0\n"
     ]
    }
   ],
   "source": [
    "print('NOT(0): {}'.format(not_percept(0)))\n",
    "print('NOT(1): {}'.format(not_percept(1)))"
   ]
  },
  {
   "cell_type": "markdown",
   "id": "c06afca5",
   "metadata": {},
   "source": [
    "### AND logical function: \n",
    "#### ŷ = ϴ(w1*x1 + w2*x2 + b) we have to given w1, w2 and b, can we find the output? For this example let w1 = 1, w2 = 1, b = -1.5"
   ]
  },
  {
   "cell_type": "code",
   "execution_count": 56,
   "id": "14ec47c1",
   "metadata": {},
   "outputs": [],
   "source": [
    "def AND_percep(x):\n",
    "    w = np.array([1, 1])\n",
    "    b = -1.5\n",
    "    return perceptron(x, w, b)    "
   ]
  },
  {
   "cell_type": "code",
   "execution_count": 57,
   "id": "96c7be51",
   "metadata": {},
   "outputs": [],
   "source": [
    "example_1 = np.array([1, 1])\n",
    "example_2 = np.array([1, 0])\n",
    "example_3 = np.array([0, 1])\n",
    "example_4 = np.array([0, 0])"
   ]
  },
  {
   "cell_type": "code",
   "execution_count": 58,
   "id": "791f398e",
   "metadata": {},
   "outputs": [
    {
     "name": "stdout",
     "output_type": "stream",
     "text": [
      "AND(1, 1) = 1\n",
      "AND(1, 0) = 0\n",
      "AND(0, 1) = 0\n",
      "AND(0, 0) = 0\n"
     ]
    }
   ],
   "source": [
    "print(\"AND({}, {}) = {}\".format(1, 1, AND_percep(example_1)))\n",
    "print(\"AND({}, {}) = {}\".format(1, 0, AND_percep(example_2)))\n",
    "print(\"AND({}, {}) = {}\".format(0, 1, AND_percep(example_3)))\n",
    "print(\"AND({}, {}) = {}\".format(0, 0, AND_percep(example_4)))"
   ]
  },
  {
   "cell_type": "markdown",
   "id": "02512eca",
   "metadata": {},
   "source": [
    "### OR logical function: \n",
    "#### For this example we use:: w1 = 1, w2 = 1, b = -0.5"
   ]
  },
  {
   "cell_type": "code",
   "execution_count": 59,
   "id": "3777a335",
   "metadata": {},
   "outputs": [],
   "source": [
    "def OR_percep(x):\n",
    "    w = np.array([1, 1])\n",
    "    b = -0.5\n",
    "    return perceptron(x, w, b)"
   ]
  },
  {
   "cell_type": "code",
   "execution_count": 60,
   "id": "351de312",
   "metadata": {},
   "outputs": [],
   "source": [
    "example_1 = np.array([1, 1])\n",
    "example_2 = np.array([1, 0])\n",
    "example_3 = np.array([0, 1])\n",
    "example_4 = np.array([0, 0])"
   ]
  },
  {
   "cell_type": "code",
   "execution_count": 61,
   "id": "532ddbc2",
   "metadata": {},
   "outputs": [
    {
     "name": "stdout",
     "output_type": "stream",
     "text": [
      "OR(1, 1) = 1\n",
      "OR(1, 0) = 1\n",
      "OR(0, 1) = 1\n",
      "OR(0, 0) = 0\n"
     ]
    }
   ],
   "source": [
    "print(\"OR({}, {}) = {}\".format(1, 1, OR_percep(example_1)))\n",
    "print(\"OR({}, {}) = {}\".format(1, 0, OR_percep(example_2)))\n",
    "print(\"OR({}, {}) = {}\".format(0, 1, OR_percep(example_3)))\n",
    "print(\"OR({}, {}) = {}\".format(0, 0, OR_percep(example_4)))"
   ]
  },
  {
   "cell_type": "markdown",
   "id": "49c17ef0",
   "metadata": {},
   "source": [
    "### XOR — ALL (perceptrons) FOR ONE (logical function):\n",
    "#### XOR(x1, x2) = AND(NOT(AND(x1, x2)), OR(x1, x2))"
   ]
  },
  {
   "cell_type": "code",
   "execution_count": 65,
   "id": "e31be2f1",
   "metadata": {},
   "outputs": [],
   "source": [
    "def XOR_net(x):\n",
    "    gate_1 = AND_percep(x)\n",
    "    gate_2 = NOT_percept(gate_1)\n",
    "    gate_3 = OR_percep(x)\n",
    "    new_x = np.array([gate_2, gate_3])\n",
    "    output = AND_percep(new_x)\n",
    "    return output"
   ]
  },
  {
   "cell_type": "code",
   "execution_count": 66,
   "id": "0bb0a1f2",
   "metadata": {},
   "outputs": [
    {
     "name": "stdout",
     "output_type": "stream",
     "text": [
      "XOR(1, 1) = 0\n",
      "XOR(1, 0) = 1\n",
      "XOR(0, 1) = 1\n",
      "XOR(0, 0) = 0\n"
     ]
    }
   ],
   "source": [
    "print(\"XOR({}, {}) = {}\".format(1, 1, XOR_net(example_1)))\n",
    "print(\"XOR({}, {}) = {}\".format(1, 0, XOR_net(example_2)))\n",
    "print(\"XOR({}, {}) = {}\".format(0, 1, XOR_net(example_3)))\n",
    "print(\"XOR({}, {}) = {}\".format(0, 0, XOR_net(example_4)))"
   ]
  }
 ],
 "metadata": {
  "kernelspec": {
   "display_name": "Python 3 (ipykernel)",
   "language": "python",
   "name": "python3"
  },
  "language_info": {
   "codemirror_mode": {
    "name": "ipython",
    "version": 3
   },
   "file_extension": ".py",
   "mimetype": "text/x-python",
   "name": "python",
   "nbconvert_exporter": "python",
   "pygments_lexer": "ipython3",
   "version": "3.11.3"
  }
 },
 "nbformat": 4,
 "nbformat_minor": 5
}
